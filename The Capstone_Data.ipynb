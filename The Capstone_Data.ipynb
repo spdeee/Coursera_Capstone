{
    "cells": [
        {
            "cell_type": "markdown",
            "metadata": {},
            "source": "<h2><center>The Captone Project - Battle of the neigborhoods <br \\> <br \\> Applied Data Science Capstone Course By Coursera</center></h2>\n\n<h2><center> Identifying areas for real-estate investment </center></h2>"
        },
        {
            "cell_type": "markdown",
            "metadata": {},
            "source": "## Introduction: Business Problem <a name=\"introduction\"></a>"
        },
        {
            "cell_type": "markdown",
            "metadata": {},
            "source": "Real-estate is one of the fastest growing markets in the United States today. The residential housing market has seen unprecendented growth in the last year, fuelled by the demands caused by pandemic (people opting to work from home, moving to cheaper cities etc). As the residential real estate market grows, commercial real estate market follows suit. The upcoming housing communities need supporting commercial establishments such as coffee shops, restaurants, office spaces, preschools etc around them. Therefore, this market presents a great avenue to invest and grow for someone who is looking for oppurtunies in real-estate market. However, these investors, indivduals or a company might not be physcially present at these locations to know where such opportunities exist. Usually, either they spend a lot of time exploring the areas on their own or send a real-estate agent to these locations. Both of which are time consuming and expensive affairs. In this project, I aim to present a data driven analysis to identify the upcoming communities and the commercial establishments around them. The goal of this project is to give a bird's eye view of the geographical location that also shows the areas with potential to grow. Using the Foursquare API I also give an idea of what commercial establishements are already in operation to further narrow down the investment opportunities.  "
        },
        {
            "cell_type": "markdown",
            "metadata": {},
            "source": "## Data <a name=\"data\"></a>"
        },
        {
            "cell_type": "markdown",
            "metadata": {},
            "source": "For this study I picked Williamson county in Texas, which is the third fastest growing county in Texas. I did not want to pick the top most counties as those counties would already have seen enough growth. The idea is to pick the ones that have the most growth potential for the investment. Further,I looked at the fastest growing cities in Williamson county, this information is obtained from wikipedia. I used Beautiful soup to scrape wikipedia and get the information of top 5 largest cities in Williamson County. The information was from 2018 and the present day numbers might be higher. Again to ensure highest growth potential opportunites, I left the top 2 cities and picked the thrid largest city 'Georgetown' for this study. Next step was to look at where new housing communities were coming up in Georgetown.This information was obtained from Williamson county website, it had names and addresses of the communities. Once I had the addresses, I cleeaned them and used google API to obtain the location coordinates for those addresses. As the last step in \"Data\", I used the address coordinates in Foursqaure API to obtain the venues around them and to further explore the Georgetown city.      "
        },
        {
            "cell_type": "code",
            "execution_count": 1,
            "metadata": {},
            "outputs": [],
            "source": "import pandas as pd\nimport numpy as np\nimport matplotlib.pyplot as plt\nimport requests\nfrom bs4 import BeautifulSoup "
        },
        {
            "cell_type": "markdown",
            "metadata": {},
            "source": "#### Fastest Growing cities in Williamson County, Texas"
        },
        {
            "cell_type": "code",
            "execution_count": 2,
            "metadata": {},
            "outputs": [],
            "source": "url = \"https://en.wikipedia.org/wiki/Williamson_County,_Texas\"\nhtml_data = requests.get(url).text"
        },
        {
            "cell_type": "code",
            "execution_count": 3,
            "metadata": {},
            "outputs": [],
            "source": "soup = BeautifulSoup(html_data, 'html5lib')"
        },
        {
            "cell_type": "code",
            "execution_count": 4,
            "metadata": {},
            "outputs": [],
            "source": "title = soup.title"
        },
        {
            "cell_type": "code",
            "execution_count": 5,
            "metadata": {},
            "outputs": [],
            "source": "header = soup.find(\"b\", text=\"Municipal Population History\")\ntable= header.find_parent(\"table\")"
        },
        {
            "cell_type": "code",
            "execution_count": 6,
            "metadata": {},
            "outputs": [],
            "source": "table_contents = []\nfor row in table.find_all(\"tr\")[2:] :\n    data = {}\n    data = [cell.get_text(strip=True) for cell in row.find_all(\"td\")]\n    table_contents.append(data)"
        },
        {
            "cell_type": "code",
            "execution_count": 7,
            "metadata": {},
            "outputs": [],
            "source": "rows = table.find_all('tr')[:2]\nheading = []\nfor row in rows :\n    hdng = [text.get_text(strip=True) for text in row.find_all(\"th\")]\n    heading = hdng"
        },
        {
            "cell_type": "code",
            "execution_count": 8,
            "metadata": {
                "scrolled": true
            },
            "outputs": [
                {
                    "data": {
                        "text/html": "<div>\n<style scoped>\n    .dataframe tbody tr th:only-of-type {\n        vertical-align: middle;\n    }\n\n    .dataframe tbody tr th {\n        vertical-align: top;\n    }\n\n    .dataframe thead th {\n        text-align: right;\n    }\n</style>\n<table border=\"1\" class=\"dataframe\">\n  <thead>\n    <tr style=\"text-align: right;\">\n      <th></th>\n      <th>Largest Cities in Williamson County</th>\n      <th>1950</th>\n      <th>1960</th>\n      <th>1970</th>\n      <th>1980</th>\n      <th>1990</th>\n      <th>2000</th>\n      <th>2010</th>\n      <th>2018 (estimate)</th>\n    </tr>\n    <tr>\n      <th>#</th>\n      <th></th>\n      <th></th>\n      <th></th>\n      <th></th>\n      <th></th>\n      <th></th>\n      <th></th>\n      <th></th>\n      <th></th>\n    </tr>\n  </thead>\n  <tbody>\n    <tr>\n      <th>1</th>\n      <td>Round Rock</td>\n      <td>1,438</td>\n      <td>1,878</td>\n      <td>2,811</td>\n      <td>11,812</td>\n      <td>30,923</td>\n      <td>61,136</td>\n      <td>99,887</td>\n      <td>128,739</td>\n    </tr>\n    <tr>\n      <th>2</th>\n      <td>Cedar Park</td>\n      <td>202</td>\n      <td>385</td>\n      <td>692</td>\n      <td>3,474</td>\n      <td>5,161</td>\n      <td>26,049</td>\n      <td>48,937</td>\n      <td>76,999</td>\n    </tr>\n    <tr>\n      <th>3</th>\n      <td>Georgetown</td>\n      <td>4,951</td>\n      <td>5,218</td>\n      <td>6,395</td>\n      <td>9,468</td>\n      <td>14,842</td>\n      <td>28,339</td>\n      <td>47,400</td>\n      <td>74,180</td>\n    </tr>\n    <tr>\n      <th>4</th>\n      <td>Leander</td>\n      <td>-</td>\n      <td>-</td>\n      <td>-</td>\n      <td>2,179</td>\n      <td>3,398</td>\n      <td>7,596</td>\n      <td>26,521</td>\n      <td>56,111</td>\n    </tr>\n    <tr>\n      <th>5</th>\n      <td>Hutto</td>\n      <td>n/a</td>\n      <td>400</td>\n      <td>545</td>\n      <td>659</td>\n      <td>630</td>\n      <td>1,250</td>\n      <td>14,698</td>\n      <td>26,434</td>\n    </tr>\n  </tbody>\n</table>\n</div>",
                        "text/plain": "  Largest Cities in Williamson County   1950   1960   1970    1980    1990  \\\n#                                                                            \n1                          Round Rock  1,438  1,878  2,811  11,812  30,923   \n2                          Cedar Park    202    385    692   3,474   5,161   \n3                          Georgetown  4,951  5,218  6,395   9,468  14,842   \n4                             Leander      -      -      -   2,179   3,398   \n5                               Hutto    n/a    400    545     659     630   \n\n     2000    2010 2018 (estimate)  \n#                                  \n1  61,136  99,887         128,739  \n2  26,049  48,937          76,999  \n3  28,339  47,400          74,180  \n4   7,596  26,521          56,111  \n5   1,250  14,698          26,434  "
                    },
                    "execution_count": 8,
                    "metadata": {},
                    "output_type": "execute_result"
                }
            ],
            "source": "counties = pd.DataFrame(table_contents, columns = heading)\ncounties = counties.set_index('#')\ncounties.head()"
        },
        {
            "cell_type": "markdown",
            "metadata": {},
            "source": "#### New home communities in Georgetown Texas"
        },
        {
            "cell_type": "code",
            "execution_count": 9,
            "metadata": {},
            "outputs": [],
            "source": "url1 = \"https://wclife.org/new-home-communities/cities/georgetown\"\nurl2 = \"https://wclife.org/new-home-communities/cities/georgetown/P10\"\nhtml_data1 = requests.get(url1).text\nhtml_data2 = requests.get(url2).text"
        },
        {
            "cell_type": "code",
            "execution_count": 10,
            "metadata": {},
            "outputs": [],
            "source": "soup1 = BeautifulSoup(html_data1, 'html5lib')\nsoup2 = BeautifulSoup(html_data2, 'html5lib')"
        },
        {
            "cell_type": "markdown",
            "metadata": {},
            "source": "#### Extracting the community names "
        },
        {
            "cell_type": "code",
            "execution_count": 11,
            "metadata": {},
            "outputs": [],
            "source": "comms1 = []\nfor h in soup1.find_all('h2'): \n    txt = h.get_text()\n    comms1.append(txt)\n    \ncomms1 = comms1[1:-1]\ncomms2 = []\nfor h in soup2.find_all('h2'):\n    txt = h.get_text()\n    comms2.append(txt)\ncomms2 = comms2[1:-1]"
        },
        {
            "cell_type": "code",
            "execution_count": 12,
            "metadata": {},
            "outputs": [],
            "source": "comms = comms1 + comms2"
        },
        {
            "cell_type": "code",
            "execution_count": 13,
            "metadata": {},
            "outputs": [
                {
                    "name": "stdout",
                    "output_type": "stream",
                    "text": "['Berry Creek', 'Carlson Place', 'Cimarron Hills', 'Deer Haven', 'Georgetown Village', 'La Conterra', 'Lakeside at Lake Georgetown', 'MorningStar', 'Oaks at San Gabriel', 'Parkside at Mayfield Ranch', 'Rancho Sienna', 'SaddleCreek', 'Sun City Texas', 'Teravista by Newland Communities', 'The Brownstone at the Summit', 'Water Oak', 'Wolf Ranch', 'Woodland Park']\n"
                },
                {
                    "data": {
                        "text/plain": "18"
                    },
                    "execution_count": 13,
                    "metadata": {},
                    "output_type": "execute_result"
                }
            ],
            "source": "print(comms)\nlen(comms)"
        },
        {
            "cell_type": "markdown",
            "metadata": {},
            "source": "#### Extracting the community addresses"
        },
        {
            "cell_type": "code",
            "execution_count": 14,
            "metadata": {},
            "outputs": [
                {
                    "name": "stdout",
                    "output_type": "stream",
                    "text": "[' 30325 Tiger Woods Dr.  | Georgetown, TX  78628', ' Rockride Lane and Carlson Cove  | Georgetown, TX  78626', ' 307 Flint Ridge Trail  | Georgetown, TX  78628', ' 3816 Williams Drive  | Georgetown, TX  78633', ' Shell Road  | Georgetown, TX  78626', ' 358 Grand Junction Trl  | Georgetown, TX  78626', ' 113 Lake Spring Circle  | Georgetown, TX  78628', ' 101 Ridgeview Court  | Georgetown, TX  78628', ' 1211 Terrace Drive  | Georgetown, TX  78628', ' 101 Garner Park Cove  | Georgetown, TX  78628']\n[' 404 Via De Sienna Blvd  | Georgetown, TX  78628', ' 8605 Daisy Cutter Crossing  | Georgetown, TX  78626', ' 1501 Sun City Blvd  | Georgetown, TX  78633', ' 1000 Wildflower Park Drive  | Georgetown, TX  78626', ' 204 Adams St  | Georgetown, TX  78628', ' 2609 Water Oak Parkway  | Georgetown, TX  78628', ' Wolf Ranch Parkway  | Georgetown, TX  78626', ' 101 W. Red Bud Meadow  | Georgetown, TX  78633']\n"
                }
            ],
            "source": "addrs1 = []\nfor p in soup1.select(\"p:nth-of-type(1)\"):\n    txt = p.get_text()\n    addrs1.append(txt)\naddrs1 = addrs1[0:-2]\nprint(addrs1)\naddrs2 = []\nfor p in soup2.select(\"p:nth-of-type(1)\"):\n    txt = p.get_text()\n    addrs2.append(txt)\naddrs2 = addrs2[0:-2]\nprint(addrs2)"
        },
        {
            "cell_type": "code",
            "execution_count": 15,
            "metadata": {},
            "outputs": [
                {
                    "data": {
                        "text/plain": "18"
                    },
                    "execution_count": 15,
                    "metadata": {},
                    "output_type": "execute_result"
                }
            ],
            "source": "addrs = addrs1+addrs2\nlen(addrs)"
        },
        {
            "cell_type": "code",
            "execution_count": 16,
            "metadata": {
                "scrolled": true
            },
            "outputs": [
                {
                    "name": "stdout",
                    "output_type": "stream",
                    "text": "[' 30325 Tiger Woods Dr.  | Georgetown, TX  78628', ' Rockride Lane and Carlson Cove  | Georgetown, TX  78626', ' 307 Flint Ridge Trail  | Georgetown, TX  78628', ' 3816 Williams Drive  | Georgetown, TX  78633', ' Shell Road  | Georgetown, TX  78626', ' 358 Grand Junction Trl  | Georgetown, TX  78626', ' 113 Lake Spring Circle  | Georgetown, TX  78628', ' 101 Ridgeview Court  | Georgetown, TX  78628', ' 1211 Terrace Drive  | Georgetown, TX  78628', ' 101 Garner Park Cove  | Georgetown, TX  78628', ' 404 Via De Sienna Blvd  | Georgetown, TX  78628', ' 8605 Daisy Cutter Crossing  | Georgetown, TX  78626', ' 1501 Sun City Blvd  | Georgetown, TX  78633', ' 1000 Wildflower Park Drive  | Georgetown, TX  78626', ' 204 Adams St  | Georgetown, TX  78628', ' 2609 Water Oak Parkway  | Georgetown, TX  78628', ' Wolf Ranch Parkway  | Georgetown, TX  78626', ' 101 W. Red Bud Meadow  | Georgetown, TX  78633']\n"
                }
            ],
            "source": "print(addrs)"
        },
        {
            "cell_type": "code",
            "execution_count": 17,
            "metadata": {},
            "outputs": [],
            "source": "# A dataframe of communities with corresponding addresses\nggtwn = {'Communities': comms, 'Address':addrs}\ncom_ggtwn = pd.DataFrame(ggtwn, columns = ['Communities', 'Address'])"
        },
        {
            "cell_type": "code",
            "execution_count": 18,
            "metadata": {},
            "outputs": [
                {
                    "data": {
                        "text/html": "<div>\n<style scoped>\n    .dataframe tbody tr th:only-of-type {\n        vertical-align: middle;\n    }\n\n    .dataframe tbody tr th {\n        vertical-align: top;\n    }\n\n    .dataframe thead th {\n        text-align: right;\n    }\n</style>\n<table border=\"1\" class=\"dataframe\">\n  <thead>\n    <tr style=\"text-align: right;\">\n      <th></th>\n      <th>Communities</th>\n      <th>Address</th>\n    </tr>\n  </thead>\n  <tbody>\n    <tr>\n      <th>0</th>\n      <td>Berry Creek</td>\n      <td>30325 Tiger Woods Dr.  | Georgetown, TX  78628</td>\n    </tr>\n    <tr>\n      <th>1</th>\n      <td>Carlson Place</td>\n      <td>Rockride Lane and Carlson Cove  | Georgetown,...</td>\n    </tr>\n    <tr>\n      <th>2</th>\n      <td>Cimarron Hills</td>\n      <td>307 Flint Ridge Trail  | Georgetown, TX  78628</td>\n    </tr>\n    <tr>\n      <th>3</th>\n      <td>Deer Haven</td>\n      <td>3816 Williams Drive  | Georgetown, TX  78633</td>\n    </tr>\n    <tr>\n      <th>4</th>\n      <td>Georgetown Village</td>\n      <td>Shell Road  | Georgetown, TX  78626</td>\n    </tr>\n  </tbody>\n</table>\n</div>",
                        "text/plain": "          Communities                                            Address\n0         Berry Creek     30325 Tiger Woods Dr.  | Georgetown, TX  78628\n1       Carlson Place   Rockride Lane and Carlson Cove  | Georgetown,...\n2      Cimarron Hills     307 Flint Ridge Trail  | Georgetown, TX  78628\n3          Deer Haven       3816 Williams Drive  | Georgetown, TX  78633\n4  Georgetown Village                Shell Road  | Georgetown, TX  78626"
                    },
                    "execution_count": 18,
                    "metadata": {},
                    "output_type": "execute_result"
                }
            ],
            "source": "com_ggtwn.head()"
        },
        {
            "cell_type": "markdown",
            "metadata": {},
            "source": "#### Obtaining the coordinates of the Neighborhood addresses"
        },
        {
            "cell_type": "code",
            "execution_count": 19,
            "metadata": {},
            "outputs": [],
            "source": "import re\nimport folium\nfrom folium.features import DivIcon"
        },
        {
            "cell_type": "code",
            "execution_count": 20,
            "metadata": {},
            "outputs": [],
            "source": "# The code was removed by Watson Studio for sharing."
        },
        {
            "cell_type": "code",
            "execution_count": 21,
            "metadata": {
                "scrolled": true
            },
            "outputs": [
                {
                    "name": "stdout",
                    "output_type": "stream",
                    "text": "Coordinate of Georgetown, Texas, USA: [30.6332618, -97.6779842]\n"
                }
            ],
            "source": "def get_coords(api_key, address, verbose=False):\n    try:\n        url = 'https://maps.googleapis.com/maps/api/geocode/json?key={}&address={}'.format(api_key, address)\n        response = requests.get(url).json()\n        if verbose:\n            print('Google Maps API JSON result =>', response)\n        results = response['results']\n        geographical_data = results[0]['geometry']['location'] # get geographical coordinates\n        lat = geographical_data['lat']\n        lon = geographical_data['lng']\n        return [lat, lon]\n    except:\n        return [None, None]\n    \naddress = 'Georgetown, Texas, USA'\nggtwn = get_coords(api_key, address)\nprint('Coordinate of {}: {}'.format(address, ggtwn))"
        },
        {
            "cell_type": "code",
            "execution_count": 22,
            "metadata": {},
            "outputs": [],
            "source": "# cleaning the addresses \ncleanaddrs = []\nfor a in addrs:\n    ca = a.replace('|', ',')\n    cleanaddrs.append(ca)"
        },
        {
            "cell_type": "code",
            "execution_count": 23,
            "metadata": {},
            "outputs": [],
            "source": "# obtaining the coordinates using google API\nlat = []\nlon = []\nloc = []\n\nfor a in cleanaddrs :\n    l = get_coords(api_key, a)\n    loc.append(l)\n    lat.append(l[0])\n    lon.append(l[1])"
        },
        {
            "cell_type": "code",
            "execution_count": 24,
            "metadata": {},
            "outputs": [
                {
                    "name": "stdout",
                    "output_type": "stream",
                    "text": "[[30.7144059, -97.66470869999999], [30.621265, -97.644688], [30.6523577, -97.7912765], [30.6729895, -97.7014293], [30.7122562, -97.68587579999999], [30.599753, -97.65625209999999], [30.6899687, -97.7290086], [30.64828319999999, -97.81913019999999], [30.6410107, -97.76340189999999], [30.5762202, -97.7716166], [30.62622959999999, -97.8184823], [30.618414, -97.6353695], [30.7165271, -97.7211944], [30.5902212, -97.66370380000001], [30.6516196, -97.68659670000001], [30.6307418, -97.7524717], [30.6372296, -97.7005088], [30.7105922, -97.7577561]]\n"
                }
            ],
            "source": "print(loc)"
        },
        {
            "cell_type": "code",
            "execution_count": 25,
            "metadata": {},
            "outputs": [
                {
                    "data": {
                        "text/plain": "18"
                    },
                    "execution_count": 25,
                    "metadata": {},
                    "output_type": "execute_result"
                }
            ],
            "source": "len(loc)"
        },
        {
            "cell_type": "code",
            "execution_count": 26,
            "metadata": {},
            "outputs": [],
            "source": "# updated dataframe with latitude and longitude information\ncom_ggtwn['Address'] = cleanaddrs\ncom_ggtwn['latitude']= lat\ncom_ggtwn['longitude']=lon"
        },
        {
            "cell_type": "code",
            "execution_count": 27,
            "metadata": {
                "scrolled": true
            },
            "outputs": [
                {
                    "data": {
                        "text/html": "<div>\n<style scoped>\n    .dataframe tbody tr th:only-of-type {\n        vertical-align: middle;\n    }\n\n    .dataframe tbody tr th {\n        vertical-align: top;\n    }\n\n    .dataframe thead th {\n        text-align: right;\n    }\n</style>\n<table border=\"1\" class=\"dataframe\">\n  <thead>\n    <tr style=\"text-align: right;\">\n      <th></th>\n      <th>Communities</th>\n      <th>Address</th>\n      <th>latitude</th>\n      <th>longitude</th>\n    </tr>\n  </thead>\n  <tbody>\n    <tr>\n      <th>0</th>\n      <td>Berry Creek</td>\n      <td>30325 Tiger Woods Dr.  , Georgetown, TX  78628</td>\n      <td>30.714406</td>\n      <td>-97.664709</td>\n    </tr>\n    <tr>\n      <th>1</th>\n      <td>Carlson Place</td>\n      <td>Rockride Lane and Carlson Cove  , Georgetown,...</td>\n      <td>30.621265</td>\n      <td>-97.644688</td>\n    </tr>\n    <tr>\n      <th>2</th>\n      <td>Cimarron Hills</td>\n      <td>307 Flint Ridge Trail  , Georgetown, TX  78628</td>\n      <td>30.652358</td>\n      <td>-97.791276</td>\n    </tr>\n    <tr>\n      <th>3</th>\n      <td>Deer Haven</td>\n      <td>3816 Williams Drive  , Georgetown, TX  78633</td>\n      <td>30.672989</td>\n      <td>-97.701429</td>\n    </tr>\n    <tr>\n      <th>4</th>\n      <td>Georgetown Village</td>\n      <td>Shell Road  , Georgetown, TX  78626</td>\n      <td>30.712256</td>\n      <td>-97.685876</td>\n    </tr>\n    <tr>\n      <th>5</th>\n      <td>La Conterra</td>\n      <td>358 Grand Junction Trl  , Georgetown, TX  78626</td>\n      <td>30.599753</td>\n      <td>-97.656252</td>\n    </tr>\n    <tr>\n      <th>6</th>\n      <td>Lakeside at Lake Georgetown</td>\n      <td>113 Lake Spring Circle  , Georgetown, TX  78628</td>\n      <td>30.689969</td>\n      <td>-97.729009</td>\n    </tr>\n    <tr>\n      <th>7</th>\n      <td>MorningStar</td>\n      <td>101 Ridgeview Court  , Georgetown, TX  78628</td>\n      <td>30.648283</td>\n      <td>-97.819130</td>\n    </tr>\n    <tr>\n      <th>8</th>\n      <td>Oaks at San Gabriel</td>\n      <td>1211 Terrace Drive  , Georgetown, TX  78628</td>\n      <td>30.641011</td>\n      <td>-97.763402</td>\n    </tr>\n    <tr>\n      <th>9</th>\n      <td>Parkside at Mayfield Ranch</td>\n      <td>101 Garner Park Cove  , Georgetown, TX  78628</td>\n      <td>30.576220</td>\n      <td>-97.771617</td>\n    </tr>\n    <tr>\n      <th>10</th>\n      <td>Rancho Sienna</td>\n      <td>404 Via De Sienna Blvd  , Georgetown, TX  78628</td>\n      <td>30.626230</td>\n      <td>-97.818482</td>\n    </tr>\n    <tr>\n      <th>11</th>\n      <td>SaddleCreek</td>\n      <td>8605 Daisy Cutter Crossing  , Georgetown, TX ...</td>\n      <td>30.618414</td>\n      <td>-97.635369</td>\n    </tr>\n    <tr>\n      <th>12</th>\n      <td>Sun City Texas</td>\n      <td>1501 Sun City Blvd  , Georgetown, TX  78633</td>\n      <td>30.716527</td>\n      <td>-97.721194</td>\n    </tr>\n    <tr>\n      <th>13</th>\n      <td>Teravista by Newland Communities</td>\n      <td>1000 Wildflower Park Drive  , Georgetown, TX ...</td>\n      <td>30.590221</td>\n      <td>-97.663704</td>\n    </tr>\n    <tr>\n      <th>14</th>\n      <td>The Brownstone at the Summit</td>\n      <td>204 Adams St  , Georgetown, TX  78628</td>\n      <td>30.651620</td>\n      <td>-97.686597</td>\n    </tr>\n    <tr>\n      <th>15</th>\n      <td>Water Oak</td>\n      <td>2609 Water Oak Parkway  , Georgetown, TX  78628</td>\n      <td>30.630742</td>\n      <td>-97.752472</td>\n    </tr>\n    <tr>\n      <th>16</th>\n      <td>Wolf Ranch</td>\n      <td>Wolf Ranch Parkway  , Georgetown, TX  78626</td>\n      <td>30.637230</td>\n      <td>-97.700509</td>\n    </tr>\n    <tr>\n      <th>17</th>\n      <td>Woodland Park</td>\n      <td>101 W. Red Bud Meadow  , Georgetown, TX  78633</td>\n      <td>30.710592</td>\n      <td>-97.757756</td>\n    </tr>\n  </tbody>\n</table>\n</div>",
                        "text/plain": "                         Communities  \\\n0                        Berry Creek   \n1                      Carlson Place   \n2                     Cimarron Hills   \n3                         Deer Haven   \n4                 Georgetown Village   \n5                        La Conterra   \n6        Lakeside at Lake Georgetown   \n7                        MorningStar   \n8                Oaks at San Gabriel   \n9         Parkside at Mayfield Ranch   \n10                     Rancho Sienna   \n11                       SaddleCreek   \n12                    Sun City Texas   \n13  Teravista by Newland Communities   \n14      The Brownstone at the Summit   \n15                         Water Oak   \n16                        Wolf Ranch   \n17                     Woodland Park   \n\n                                              Address   latitude  longitude  \n0      30325 Tiger Woods Dr.  , Georgetown, TX  78628  30.714406 -97.664709  \n1    Rockride Lane and Carlson Cove  , Georgetown,...  30.621265 -97.644688  \n2      307 Flint Ridge Trail  , Georgetown, TX  78628  30.652358 -97.791276  \n3        3816 Williams Drive  , Georgetown, TX  78633  30.672989 -97.701429  \n4                 Shell Road  , Georgetown, TX  78626  30.712256 -97.685876  \n5     358 Grand Junction Trl  , Georgetown, TX  78626  30.599753 -97.656252  \n6     113 Lake Spring Circle  , Georgetown, TX  78628  30.689969 -97.729009  \n7        101 Ridgeview Court  , Georgetown, TX  78628  30.648283 -97.819130  \n8         1211 Terrace Drive  , Georgetown, TX  78628  30.641011 -97.763402  \n9       101 Garner Park Cove  , Georgetown, TX  78628  30.576220 -97.771617  \n10    404 Via De Sienna Blvd  , Georgetown, TX  78628  30.626230 -97.818482  \n11   8605 Daisy Cutter Crossing  , Georgetown, TX ...  30.618414 -97.635369  \n12        1501 Sun City Blvd  , Georgetown, TX  78633  30.716527 -97.721194  \n13   1000 Wildflower Park Drive  , Georgetown, TX ...  30.590221 -97.663704  \n14              204 Adams St  , Georgetown, TX  78628  30.651620 -97.686597  \n15    2609 Water Oak Parkway  , Georgetown, TX  78628  30.630742 -97.752472  \n16        Wolf Ranch Parkway  , Georgetown, TX  78626  30.637230 -97.700509  \n17     101 W. Red Bud Meadow  , Georgetown, TX  78633  30.710592 -97.757756  "
                    },
                    "execution_count": 27,
                    "metadata": {},
                    "output_type": "execute_result"
                }
            ],
            "source": "com_ggtwn"
        }
    ],
    "metadata": {
        "kernelspec": {
            "display_name": "Python 3.7",
            "language": "python",
            "name": "python3"
        },
        "language_info": {
            "codemirror_mode": {
                "name": "ipython",
                "version": 3
            },
            "file_extension": ".py",
            "mimetype": "text/x-python",
            "name": "python",
            "nbconvert_exporter": "python",
            "pygments_lexer": "ipython3",
            "version": "3.7.10"
        }
    },
    "nbformat": 4,
    "nbformat_minor": 4
}