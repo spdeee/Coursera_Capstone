{
    "cells": [
        {
            "cell_type": "markdown",
            "metadata": {},
            "source": "<h2><center>The Captone Project - Battle of the neigborhoods <br \\> <br \\> Applied Data Science Capstone Course By Coursera</center></h2>\n\n<h2><center> Identifying areas for real-estate investment </center></h2>"
        },
        {
            "cell_type": "markdown",
            "metadata": {},
            "source": "## Introduction: Business Problem <a name=\"introduction\"></a>"
        },
        {
            "cell_type": "markdown",
            "metadata": {},
            "source": "Real-estate is one of the fastest growing markets in the United States today. The residential housing market has seen unprecendented growth in the last year, fuelled by the demands caused by pandemic (people opting to work from home, moving to cheaper cities etc). As the residential real estate market grows, commercial real estate market follows suit. The upcoming housing communities need supporting commercial establishments such as coffee shops, restaurants, office spaces, preschools etc around them. Therefore, this market presents a great avenue to invest and grow for someone who is looking for oppurtunies in real-estate market. However, these investors, indivduals or a company might not be physcially present at these locations to know where such opportunities exist. Usually, either they spend a lot of time exploring the areas on their own or send a real-estate agent to these locations. Both of which are time consuming and expensive affairs. In this project, I aim to present a data driven analysis to identify the upcoming communities and the commercial establishments around them. The goal of this project is to give a bird's eye view of the geographical location that also shows the areas with potential to grow. Using the Foursquare API I also give an idea of what commercial establishements are already in operation to further narrow down the investment opportunities.  "
        }
    ],
    "metadata": {
        "kernelspec": {
            "display_name": "Python 3.7",
            "language": "python",
            "name": "python3"
        },
        "language_info": {
            "codemirror_mode": {
                "name": "ipython",
                "version": 3
            },
            "file_extension": ".py",
            "mimetype": "text/x-python",
            "name": "python",
            "nbconvert_exporter": "python",
            "pygments_lexer": "ipython3",
            "version": "3.7.10"
        }
    },
    "nbformat": 4,
    "nbformat_minor": 4
}